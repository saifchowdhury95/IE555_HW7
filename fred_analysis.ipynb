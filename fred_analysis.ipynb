{
 "cells": [
  {
   "cell_type": "code",
   "execution_count": null,
   "source": [
    "import json\r\n",
    "import requests\r\n",
    "import pandas as pd\r\n",
    "import matplotlib.pyplot as plt"
   ],
   "outputs": [],
   "metadata": {}
  },
  {
   "cell_type": "code",
   "execution_count": null,
   "source": [
    "with open('APIsecret.json', 'r') as f:\r\n",
    "    secrets = json.load(f)\r\n",
    "\r\n",
    "api_key = secrets[\"api_key\"]"
   ],
   "outputs": [],
   "metadata": {}
  },
  {
   "cell_type": "code",
   "execution_count": null,
   "source": [
    "class FredPy:\r\n",
    "\r\n",
    "    def __init__(self, token=None):\r\n",
    "        self.token = token\r\n",
    "        self.url = \"https://api.stlouisfed.org/fred/series/observations\" + \\\r\n",
    "                    \"?series_id={seriesID}&api_key={key}&file_type=json\" + \\\r\n",
    "                    \"&observation_start={start}&observation_end={end}&units={units}\"\r\n",
    "\r\n",
    "    def set_token(self, token):\r\n",
    "        self.token = token\r\n",
    "\r\n",
    "\r\n",
    "    def get_series(self, seriesID, start, end, units):\r\n",
    "\r\n",
    "        # The URL string with the values inserted into it\r\n",
    "        url_formatted = self.url.format(\r\n",
    "            seriesID=seriesID, start=start, end=end, units=units, key=self.token\r\n",
    "        )\r\n",
    "\r\n",
    "        response = requests.get(url_formatted)\r\n",
    "\r\n",
    "        if(self.token):\r\n",
    "            # If the response was successful, extract the data from it\r\n",
    "            if(response.status_code == 200):\r\n",
    "                data = pd.DataFrame(response.json()['observations'])[['date', 'value']]\\\r\n",
    "                        .assign(date = lambda cols: pd.to_datetime(cols['date']))\\\r\n",
    "                        .assign(value = lambda cols: cols['value'].astype(float))\\\r\n",
    "                        .rename(columns = {'value': seriesID})\r\n",
    "\r\n",
    "                return data\r\n",
    "\r\n",
    "            else:\r\n",
    "                raise Exception(\"Bad response from API, status code = {}\".format(response.status_code))\r\n",
    "        else:\r\n",
    "            raise Exception(\"You did not specify an API key.\")"
   ],
   "outputs": [],
   "metadata": {}
  },
  {
   "cell_type": "code",
   "execution_count": null,
   "source": [
    "fredpy = FredPy()\r\n",
    "\r\n",
    "fredpy.set_token(api_key)\r\n",
    "\r\n",
    "data = fredpy.get_series(\r\n",
    "    seriesID = 'GDP', \r\n",
    "    start = '2005-01-01',\r\n",
    "    end = '2021-12-01', \r\n",
    "    units = 'pc1'\r\n",
    ")\r\n",
    "\r\n",
    "unemployment_data = fredpy.get_series(\r\n",
    "    seriesID=\"UNRATE\", \r\n",
    "    start = '2005-01-01',\r\n",
    "    end = '2021-12-01', \r\n",
    "    units = 'lin'\r\n",
    ")\r\n"
   ],
   "outputs": [],
   "metadata": {}
  },
  {
   "cell_type": "code",
   "execution_count": null,
   "source": [
    "plt.figure(figsize = (12, 7))\r\n",
    "plt.plot(data['date'], data['GDP'], label=\"GDP\")\r\n",
    "plt.plot(unemployment_data['date'], unemployment_data['UNRATE'], label=\"Unemployment Rate\")\r\n",
    "plt.legend()\r\n",
    "plt.title(\"Data from FRED API\")\r\n",
    "plt.show()"
   ],
   "outputs": [],
   "metadata": {}
  }
 ],
 "metadata": {
  "orig_nbformat": 4,
  "language_info": {
   "name": "python"
  }
 },
 "nbformat": 4,
 "nbformat_minor": 2
}